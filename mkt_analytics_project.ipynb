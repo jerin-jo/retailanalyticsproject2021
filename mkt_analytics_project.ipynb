{
  "nbformat": 4,
  "nbformat_minor": 0,
  "metadata": {
    "colab": {
      "name": "SASproject.ipynb",
      "provenance": [],
      "toc_visible": true,
      "authorship_tag": "ABX9TyPwpqK7JaGdFMZ4KeN34P2c",
      "include_colab_link": true
    },
    "kernelspec": {
      "name": "python3",
      "display_name": "Python 3"
    },
    "language_info": {
      "name": "python"
    }
  },
  "cells": [
    {
      "cell_type": "markdown",
      "metadata": {
        "id": "view-in-github",
        "colab_type": "text"
      },
      "source": [
        "<a href=\"https://colab.research.google.com/github/jerin-jo/retailanalyticsproject2021/blob/main/mkt_analytics_project.ipynb\" target=\"_parent\"><img src=\"https://colab.research.google.com/assets/colab-badge.svg\" alt=\"Open In Colab\"/></a>"
      ]
    },
    {
      "cell_type": "code",
      "metadata": {
        "id": "iRNC2noHcxaa"
      },
      "source": [
        "import warnings\n",
        "warnings.filterwarnings('ignore')\n",
        "\n",
        "import numpy as np\n",
        "import pandas as pd\n",
        "from scipy import stats\n",
        "import statsmodels.api as sm\n",
        "import matplotlib.pyplot as plt\n",
        "\n",
        "%matplotlib inline"
      ],
      "execution_count": 1,
      "outputs": []
    },
    {
      "cell_type": "code",
      "metadata": {
        "id": "yRBKA_m5c6KH"
      },
      "source": [
        ""
      ],
      "execution_count": null,
      "outputs": []
    },
    {
      "cell_type": "markdown",
      "metadata": {
        "id": "66pUTa52cv4N"
      },
      "source": [
        "## Import dataset"
      ]
    },
    {
      "cell_type": "code",
      "metadata": {
        "id": "fezf9ntkcv4N",
        "colab": {
          "base_uri": "https://localhost:8080/",
          "height": 411
        },
        "outputId": "d020e7c8-5d29-42a6-a273-56d86d1cdae4"
      },
      "source": [
        "DATAPATH = 'frozen meals.xlsx'\n",
        "\n",
        "data = pd.read_excel(DATAPATH)\n",
        "data.head()"
      ],
      "execution_count": 4,
      "outputs": [
        {
          "output_type": "execute_result",
          "data": {
            "text/html": [
              "<div>\n",
              "<style scoped>\n",
              "    .dataframe tbody tr th:only-of-type {\n",
              "        vertical-align: middle;\n",
              "    }\n",
              "\n",
              "    .dataframe tbody tr th {\n",
              "        vertical-align: top;\n",
              "    }\n",
              "\n",
              "    .dataframe thead th {\n",
              "        text-align: right;\n",
              "    }\n",
              "</style>\n",
              "<table border=\"1\" class=\"dataframe\">\n",
              "  <thead>\n",
              "    <tr style=\"text-align: right;\">\n",
              "      <th></th>\n",
              "      <th>REGION</th>\n",
              "      <th>WEEK ENDING</th>\n",
              "      <th>UPC</th>\n",
              "      <th>CATEGORY</th>\n",
              "      <th>PARENT</th>\n",
              "      <th>MANUFACTURER</th>\n",
              "      <th>BRAND</th>\n",
              "      <th>MAJOR BRAND</th>\n",
              "      <th>PRIVATE LABEL/NATIONAL</th>\n",
              "      <th>PRODUCT DESCRIPTION</th>\n",
              "      <th>PRODUCT TYPE</th>\n",
              "      <th>PACKAGING GROUP</th>\n",
              "      <th>FLAVOR/SCENT</th>\n",
              "      <th>UNITS</th>\n",
              "      <th>DOLLARS</th>\n",
              "    </tr>\n",
              "  </thead>\n",
              "  <tbody>\n",
              "    <tr>\n",
              "      <th>0</th>\n",
              "      <td>4</td>\n",
              "      <td>2018-01-28</td>\n",
              "      <td>14854998001</td>\n",
              "      <td>DINNERS/ENTREES - FZ</td>\n",
              "      <td>PARENT 2</td>\n",
              "      <td>MANUFACTURER 19</td>\n",
              "      <td>BRAND 312</td>\n",
              "      <td>MAJOR BRAND 238</td>\n",
              "      <td>NATIONAL BRAND</td>\n",
              "      <td>PRODUCT 5938</td>\n",
              "      <td>ENTREE</td>\n",
              "      <td>TRAY</td>\n",
              "      <td>HOT / SPICY</td>\n",
              "      <td>238.0</td>\n",
              "      <td>520.10</td>\n",
              "    </tr>\n",
              "    <tr>\n",
              "      <th>1</th>\n",
              "      <td>1</td>\n",
              "      <td>2018-02-04</td>\n",
              "      <td>14854997630</td>\n",
              "      <td>DINNERS/ENTREES - FZ</td>\n",
              "      <td>PARENT 215</td>\n",
              "      <td>MANUFACTURER 222</td>\n",
              "      <td>BRAND 318</td>\n",
              "      <td>MAJOR BRAND 252</td>\n",
              "      <td>NATIONAL BRAND</td>\n",
              "      <td>PRODUCT 5754</td>\n",
              "      <td>CORN DOG</td>\n",
              "      <td>BOX</td>\n",
              "      <td>MEAT</td>\n",
              "      <td>147.0</td>\n",
              "      <td>883.33</td>\n",
              "    </tr>\n",
              "    <tr>\n",
              "      <th>2</th>\n",
              "      <td>1</td>\n",
              "      <td>2018-02-11</td>\n",
              "      <td>14854999434</td>\n",
              "      <td>DINNERS/ENTREES - FZ</td>\n",
              "      <td>PARENT 209</td>\n",
              "      <td>MANUFACTURER 213</td>\n",
              "      <td>BRAND 402</td>\n",
              "      <td>MAJOR BRAND 236</td>\n",
              "      <td>NATIONAL BRAND</td>\n",
              "      <td>PRODUCT 6647</td>\n",
              "      <td>ENTREE</td>\n",
              "      <td>TRAY</td>\n",
              "      <td>ASIAN</td>\n",
              "      <td>203.0</td>\n",
              "      <td>192.08</td>\n",
              "    </tr>\n",
              "    <tr>\n",
              "      <th>3</th>\n",
              "      <td>1</td>\n",
              "      <td>2018-02-11</td>\n",
              "      <td>14854998940</td>\n",
              "      <td>DINNERS/ENTREES - FZ</td>\n",
              "      <td>PARENT 203</td>\n",
              "      <td>MANUFACTURER 207</td>\n",
              "      <td>BRAND 322</td>\n",
              "      <td>MAJOR BRAND 256</td>\n",
              "      <td>NATIONAL BRAND</td>\n",
              "      <td>PRODUCT 6409</td>\n",
              "      <td>POCKET SANDWICH</td>\n",
              "      <td>BOX</td>\n",
              "      <td>MEAT</td>\n",
              "      <td>56.0</td>\n",
              "      <td>256.13</td>\n",
              "    </tr>\n",
              "    <tr>\n",
              "      <th>4</th>\n",
              "      <td>2</td>\n",
              "      <td>2018-02-25</td>\n",
              "      <td>14854999115</td>\n",
              "      <td>DINNERS/ENTREES - FZ</td>\n",
              "      <td>PARENT 208</td>\n",
              "      <td>MANUFACTURER 212</td>\n",
              "      <td>BRAND 294</td>\n",
              "      <td>MAJOR BRAND 232</td>\n",
              "      <td>NATIONAL BRAND</td>\n",
              "      <td>PRODUCT 6492</td>\n",
              "      <td>ENTREE</td>\n",
              "      <td>BOX</td>\n",
              "      <td>CHEESE</td>\n",
              "      <td>91.0</td>\n",
              "      <td>249.13</td>\n",
              "    </tr>\n",
              "  </tbody>\n",
              "</table>\n",
              "</div>"
            ],
            "text/plain": [
              "   REGION WEEK ENDING          UPC  ... FLAVOR/SCENT  UNITS DOLLARS\n",
              "0       4  2018-01-28  14854998001  ...  HOT / SPICY  238.0  520.10\n",
              "1       1  2018-02-04  14854997630  ...         MEAT  147.0  883.33\n",
              "2       1  2018-02-11  14854999434  ...        ASIAN  203.0  192.08\n",
              "3       1  2018-02-11  14854998940  ...         MEAT   56.0  256.13\n",
              "4       2  2018-02-25  14854999115  ...       CHEESE   91.0  249.13\n",
              "\n",
              "[5 rows x 15 columns]"
            ]
          },
          "metadata": {
            "tags": []
          },
          "execution_count": 4
        }
      ]
    },
    {
      "cell_type": "code",
      "metadata": {
        "colab": {
          "base_uri": "https://localhost:8080/"
        },
        "id": "qMIWdgQEfEQc",
        "outputId": "c3f84be7-df61-443c-9ca2-7f92600541fd"
      },
      "source": [
        "data.shape"
      ],
      "execution_count": 5,
      "outputs": [
        {
          "output_type": "execute_result",
          "data": {
            "text/plain": [
              "(725936, 15)"
            ]
          },
          "metadata": {
            "tags": []
          },
          "execution_count": 5
        }
      ]
    },
    {
      "cell_type": "code",
      "metadata": {
        "id": "l7pm9Ac7fVtA"
      },
      "source": [
        "data.dropna(axis=1, how='all', inplace=True)\n",
        "data.dropna(axis=0, how='all', inplace=True)"
      ],
      "execution_count": 8,
      "outputs": []
    },
    {
      "cell_type": "code",
      "metadata": {
        "colab": {
          "base_uri": "https://localhost:8080/"
        },
        "id": "R3y9vV6YfVwc",
        "outputId": "51e66afb-8f34-44ed-b6af-1b32dbdc46b8"
      },
      "source": [
        "data.shape"
      ],
      "execution_count": 9,
      "outputs": [
        {
          "output_type": "execute_result",
          "data": {
            "text/plain": [
              "(725936, 15)"
            ]
          },
          "metadata": {
            "tags": []
          },
          "execution_count": 9
        }
      ]
    },
    {
      "cell_type": "code",
      "metadata": {
        "colab": {
          "base_uri": "https://localhost:8080/"
        },
        "id": "saSZMhoifVyl",
        "outputId": "dbaf7bfc-9882-4c69-9bb2-c33839b26733"
      },
      "source": [
        "data.columns"
      ],
      "execution_count": 10,
      "outputs": [
        {
          "output_type": "execute_result",
          "data": {
            "text/plain": [
              "Index(['REGION', 'WEEK ENDING', 'UPC', 'CATEGORY', 'PARENT', 'MANUFACTURER',\n",
              "       'BRAND', 'MAJOR BRAND', 'PRIVATE LABEL/NATIONAL', 'PRODUCT DESCRIPTION',\n",
              "       'PRODUCT TYPE', 'PACKAGING GROUP', 'FLAVOR/SCENT', 'UNITS', 'DOLLARS'],\n",
              "      dtype='object')"
            ]
          },
          "metadata": {
            "tags": []
          },
          "execution_count": 10
        }
      ]
    },
    {
      "cell_type": "code",
      "metadata": {
        "colab": {
          "base_uri": "https://localhost:8080/",
          "height": 283
        },
        "id": "ebaB1AcRfmq3",
        "outputId": "b4da5f16-d788-4e2b-d316-0a0064ba76ff"
      },
      "source": [
        "data['WEEK ENDING'].astype = pd.to_datetime(data['WEEK ENDING'])"
      ],
      "execution_count": 18,
      "outputs": [
        {
          "output_type": "error",
          "ename": "AttributeError",
          "evalue": "ignored",
          "traceback": [
            "\u001b[0;31m---------------------------------------------------------------------------\u001b[0m",
            "\u001b[0;31mAttributeError\u001b[0m                            Traceback (most recent call last)",
            "\u001b[0;32m<ipython-input-18-db9bc2919678>\u001b[0m in \u001b[0;36m<module>\u001b[0;34m()\u001b[0m\n\u001b[0;32m----> 1\u001b[0;31m \u001b[0mdata\u001b[0m\u001b[0;34m[\u001b[0m\u001b[0;34m'WEEK ENDING'\u001b[0m\u001b[0;34m]\u001b[0m \u001b[0;34m=\u001b[0m \u001b[0mpd\u001b[0m\u001b[0;34m.\u001b[0m\u001b[0mto_date\u001b[0m\u001b[0;34m(\u001b[0m\u001b[0mdata\u001b[0m\u001b[0;34m[\u001b[0m\u001b[0;34m'WEEK ENDING'\u001b[0m\u001b[0;34m]\u001b[0m\u001b[0;34m)\u001b[0m\u001b[0;34m\u001b[0m\u001b[0;34m\u001b[0m\u001b[0m\n\u001b[0m",
            "\u001b[0;32m/usr/local/lib/python3.7/dist-packages/pandas/__init__.py\u001b[0m in \u001b[0;36m__getattr__\u001b[0;34m(name)\u001b[0m\n\u001b[1;32m    256\u001b[0m             \u001b[0;32mreturn\u001b[0m \u001b[0m_SparseArray\u001b[0m\u001b[0;34m\u001b[0m\u001b[0;34m\u001b[0m\u001b[0m\n\u001b[1;32m    257\u001b[0m \u001b[0;34m\u001b[0m\u001b[0m\n\u001b[0;32m--> 258\u001b[0;31m         \u001b[0;32mraise\u001b[0m \u001b[0mAttributeError\u001b[0m\u001b[0;34m(\u001b[0m\u001b[0;34mf\"module 'pandas' has no attribute '{name}'\"\u001b[0m\u001b[0;34m)\u001b[0m\u001b[0;34m\u001b[0m\u001b[0;34m\u001b[0m\u001b[0m\n\u001b[0m\u001b[1;32m    259\u001b[0m \u001b[0;34m\u001b[0m\u001b[0m\n\u001b[1;32m    260\u001b[0m \u001b[0;34m\u001b[0m\u001b[0m\n",
            "\u001b[0;31mAttributeError\u001b[0m: module 'pandas' has no attribute 'to_date'"
          ]
        }
      ]
    },
    {
      "cell_type": "code",
      "metadata": {
        "colab": {
          "base_uri": "https://localhost:8080/"
        },
        "id": "Zn19D-d5hwpQ",
        "outputId": "bbfc2b65-b9b7-4f6c-d64d-93b622417d05"
      },
      "source": [
        "data['WEEK ENDING'].describe()"
      ],
      "execution_count": 22,
      "outputs": [
        {
          "output_type": "execute_result",
          "data": {
            "text/plain": [
              "count                  725936\n",
              "unique                    156\n",
              "top       2020-03-15 00:00:00\n",
              "freq                     5328\n",
              "first     2017-12-17 00:00:00\n",
              "last      2020-12-06 00:00:00\n",
              "Name: WEEK ENDING, dtype: object"
            ]
          },
          "metadata": {
            "tags": []
          },
          "execution_count": 22
        }
      ]
    },
    {
      "cell_type": "code",
      "metadata": {
        "colab": {
          "base_uri": "https://localhost:8080/"
        },
        "id": "0VqtR0oXfmuV",
        "outputId": "87d51647-c8ba-434f-96f7-39901eb75755"
      },
      "source": [
        "data.info()"
      ],
      "execution_count": 17,
      "outputs": [
        {
          "output_type": "stream",
          "text": [
            "<class 'pandas.core.frame.DataFrame'>\n",
            "Int64Index: 725936 entries, 0 to 725935\n",
            "Data columns (total 15 columns):\n",
            " #   Column                  Non-Null Count   Dtype         \n",
            "---  ------                  --------------   -----         \n",
            " 0   REGION                  725936 non-null  int64         \n",
            " 1   WEEK ENDING             725936 non-null  datetime64[ns]\n",
            " 2   UPC                     725936 non-null  int64         \n",
            " 3   CATEGORY                725936 non-null  object        \n",
            " 4   PARENT                  725936 non-null  object        \n",
            " 5   MANUFACTURER            725936 non-null  object        \n",
            " 6   BRAND                   725936 non-null  object        \n",
            " 7   MAJOR BRAND             725936 non-null  object        \n",
            " 8   PRIVATE LABEL/NATIONAL  725936 non-null  object        \n",
            " 9   PRODUCT DESCRIPTION     725936 non-null  object        \n",
            " 10  PRODUCT TYPE            725936 non-null  object        \n",
            " 11  PACKAGING GROUP         725936 non-null  object        \n",
            " 12  FLAVOR/SCENT            725936 non-null  object        \n",
            " 13  UNITS                   725936 non-null  float64       \n",
            " 14  DOLLARS                 725936 non-null  float64       \n",
            "dtypes: datetime64[ns](1), float64(2), int64(2), object(10)\n",
            "memory usage: 88.6+ MB\n"
          ],
          "name": "stdout"
        }
      ]
    },
    {
      "cell_type": "code",
      "metadata": {
        "id": "mOAoq3FafmxW"
      },
      "source": [
        "drop_cols = ['UPC', 'CATEGORY', 'MANUFACTURER', 'PRIVATE LABEL/NATIONAL', 'PRODUCT DESCRIPTION', 'PRODUCT TYPE', 'PACKAGING GROUP', 'FLAVOR/SCENT', 'UNITS']\n",
        "data.drop(drop_cols, axis=1, inplace=True) "
      ],
      "execution_count": 24,
      "outputs": []
    },
    {
      "cell_type": "code",
      "metadata": {
        "colab": {
          "base_uri": "https://localhost:8080/"
        },
        "id": "zvwhxJAyi2QP",
        "outputId": "07ff5ce7-0aaf-4da2-8276-f898b511a3d8"
      },
      "source": [
        "data.info()"
      ],
      "execution_count": 25,
      "outputs": [
        {
          "output_type": "stream",
          "text": [
            "<class 'pandas.core.frame.DataFrame'>\n",
            "Int64Index: 725936 entries, 0 to 725935\n",
            "Data columns (total 6 columns):\n",
            " #   Column       Non-Null Count   Dtype         \n",
            "---  ------       --------------   -----         \n",
            " 0   REGION       725936 non-null  int64         \n",
            " 1   WEEK ENDING  725936 non-null  datetime64[ns]\n",
            " 2   PARENT       725936 non-null  object        \n",
            " 3   BRAND        725936 non-null  object        \n",
            " 4   MAJOR BRAND  725936 non-null  object        \n",
            " 5   DOLLARS      725936 non-null  float64       \n",
            "dtypes: datetime64[ns](1), float64(1), int64(1), object(3)\n",
            "memory usage: 38.8+ MB\n"
          ],
          "name": "stdout"
        }
      ]
    },
    {
      "cell_type": "code",
      "metadata": {
        "id": "reVJLYHPi7NM"
      },
      "source": [
        "data.columns = ['region','weekending','parent', 'brand','majorbrand','revenue'] # Renames columns"
      ],
      "execution_count": 38,
      "outputs": []
    },
    {
      "cell_type": "code",
      "metadata": {
        "colab": {
          "base_uri": "https://localhost:8080/"
        },
        "id": "9KDjsaj-i7RS",
        "outputId": "d19f7bbf-f1d1-41e3-e0f0-4e077b2dd496"
      },
      "source": [
        "data.info()"
      ],
      "execution_count": 39,
      "outputs": [
        {
          "output_type": "stream",
          "text": [
            "<class 'pandas.core.frame.DataFrame'>\n",
            "Int64Index: 725936 entries, 0 to 725935\n",
            "Data columns (total 6 columns):\n",
            " #   Column      Non-Null Count   Dtype         \n",
            "---  ------      --------------   -----         \n",
            " 0   region      725936 non-null  int64         \n",
            " 1   weekending  725936 non-null  datetime64[ns]\n",
            " 2   parent      725936 non-null  object        \n",
            " 3   brand       725936 non-null  object        \n",
            " 4   majorbrand  725936 non-null  object        \n",
            " 5   revenue     725936 non-null  float64       \n",
            "dtypes: datetime64[ns](1), float64(1), int64(1), object(3)\n",
            "memory usage: 38.8+ MB\n"
          ],
          "name": "stdout"
        }
      ]
    },
    {
      "cell_type": "code",
      "metadata": {
        "id": "S12q4wFyppzO"
      },
      "source": [
        "data['weekending'].astype = pd.to_datetime(data['weekending']).dt.date #just dates"
      ],
      "execution_count": 41,
      "outputs": []
    },
    {
      "cell_type": "code",
      "metadata": {
        "id": "HX_uP0J-q7LQ"
      },
      "source": [
        ""
      ],
      "execution_count": null,
      "outputs": []
    }
  ]
}